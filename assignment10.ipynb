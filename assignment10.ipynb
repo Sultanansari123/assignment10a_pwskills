{
 "cells": [
  {
   "cell_type": "markdown",
   "id": "9b3bb8f8-02ba-4bcd-b896-9db49f6ec00d",
   "metadata": {},
   "source": [
    "# Ans1-"
   ]
  },
  {
   "cell_type": "markdown",
   "id": "af937f9f-b69a-4ef3-a7ee-8eb291741f24",
   "metadata": {},
   "source": [
    "A: Employee uses the health insurance plan.\n",
    "\n",
    "B: Employee is a smoker."
   ]
  },
  {
   "cell_type": "markdown",
   "id": "87754b31-0b4f-4e01-9bfa-b2145b700db4",
   "metadata": {},
   "source": [
    "The probability of an employee using the health insurance plan is P(A)=0.75\n",
    "\n",
    "he probability of a smoker using the health insurance plan is P(B|A)=0.40\n",
    "\n",
    "The conditional probability of an employee being a smoker given that they use the health insurance plan is calculated as:\n",
    "\n",
    "P(B|A)=P(A union B)/P(A)\n",
    "\n",
    "P(B|A)=0.75*0.40/0.70\n",
    "\n",
    "P(B|A)=0.40\n",
    "Therefore, the probability that an employee is a smoker given that they use the health insurance plan is 40% .\n",
    "\n"
   ]
  },
  {
   "cell_type": "markdown",
   "id": "7a3e2b98-1a74-4ab0-9b65-fa4a760399c1",
   "metadata": {},
   "source": [
    "# Ans2-"
   ]
  },
  {
   "cell_type": "markdown",
   "id": "349c2712-c441-46de-a0e0-1fa52bffc8b9",
   "metadata": {},
   "source": [
    "Bernoulli Naive Bayes is suitable for binary data (features are either present or absent), while Multinomial Naive Bayes is used for discrete data representing counts or frequencies (e.g., word counts in text classification)."
   ]
  },
  {
   "cell_type": "markdown",
   "id": "92154551-5502-4424-93ca-a8d3ac90a9fc",
   "metadata": {},
   "source": [
    "# Ans3-"
   ]
  },
  {
   "cell_type": "markdown",
   "id": "b1bb5589-11ff-4330-9a84-0a8c2e4abf7b",
   "metadata": {},
   "source": [
    "Bernoulli Naive Bayes typically ignores missing values, treating them as if the feature is not present."
   ]
  },
  {
   "cell_type": "markdown",
   "id": "0db7a00a-84e4-4481-ba9c-c888ef64145f",
   "metadata": {},
   "source": [
    "# Ans4-"
   ]
  },
  {
   "cell_type": "markdown",
   "id": "ef5969b7-c4d3-4028-bef7-d3e38a5c3330",
   "metadata": {},
   "source": [
    "\n",
    "Yes, Gaussian Naive Bayes can be used for multi-class classification."
   ]
  },
  {
   "cell_type": "code",
   "execution_count": null,
   "id": "c26d34e6-bf07-48cd-8e4e-d879b776d7c4",
   "metadata": {},
   "outputs": [],
   "source": []
  }
 ],
 "metadata": {
  "kernelspec": {
   "display_name": "Python 3 (ipykernel)",
   "language": "python",
   "name": "python3"
  },
  "language_info": {
   "codemirror_mode": {
    "name": "ipython",
    "version": 3
   },
   "file_extension": ".py",
   "mimetype": "text/x-python",
   "name": "python",
   "nbconvert_exporter": "python",
   "pygments_lexer": "ipython3",
   "version": "3.10.8"
  }
 },
 "nbformat": 4,
 "nbformat_minor": 5
}
